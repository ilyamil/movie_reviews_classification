{
 "cells": [
  {
   "cell_type": "code",
   "execution_count": 8,
   "metadata": {},
   "outputs": [],
   "source": [
    "import os\n",
    "import sys\n",
    "import tweepy\n",
    "\n",
    "ROOT = os.path.abspath('..')\n",
    "SRC = os.path.join(ROOT, 'src')\n",
    "os.chdir(ROOT)\n",
    "sys.path.append(SRC)\n",
    "\n",
    "from sentiment_analysis.core.utils import load_yaml"
   ]
  },
  {
   "cell_type": "code",
   "execution_count": 10,
   "metadata": {},
   "outputs": [
    {
     "data": {
      "text/plain": [
       "['LICENSE',\n",
       " 'requirements.txt',\n",
       " 'tests',\n",
       " 'README.md',\n",
       " 'credentials.yaml',\n",
       " '.gitignore',\n",
       " 'scripts',\n",
       " '.git',\n",
       " 'data',\n",
       " 'notebooks',\n",
       " 'src']"
      ]
     },
     "execution_count": 10,
     "metadata": {},
     "output_type": "execute_result"
    }
   ],
   "source": [
    "os.listdir()"
   ]
  },
  {
   "cell_type": "code",
   "execution_count": 15,
   "metadata": {},
   "outputs": [
    {
     "data": {
      "text/plain": [
       "[3108351,\n",
       " 759251,\n",
       " 1367531,\n",
       " 807095,\n",
       " 2467791,\n",
       " 17469289,\n",
       " 20402945,\n",
       " 7309052,\n",
       " 15438913,\n",
       " 742143,\n",
       " 15754281,\n",
       " 25589776,\n",
       " 14511951,\n",
       " 788524,\n",
       " 20562637,\n",
       " 91478624,\n",
       " 28785486,\n",
       " 64643056,\n",
       " 16343974,\n",
       " 2884771,\n",
       " 16973333,\n",
       " 1994321,\n",
       " 9300262,\n",
       " 87416722,\n",
       " 18949452,\n",
       " 4970411,\n",
       " 487118986,\n",
       " 51241574,\n",
       " 37034483,\n",
       " 14293310,\n",
       " 1652541,\n",
       " 5988062,\n",
       " 25067168,\n",
       " 6134882,\n",
       " 34713362]"
      ]
     },
     "execution_count": 15,
     "metadata": {},
     "output_type": "execute_result"
    }
   ],
   "source": [
    "CREDENTIALS = 'credentials.yaml'\n",
    "NEWS_SOURCES = os.path.join('data', 'sources.yaml')\n",
    "\n",
    "credentials = load_yaml(CREDENTIALS)\n",
    "storage_options = {\n",
    "    'key': credentials['aws']['access_key'],\n",
    "    'secret': credentials['aws']['secret_access_key']\n",
    "}\n",
    "bearer_token = credentials['twitter']['bearer_token']\n",
    "\n",
    "news_sources = load_yaml(NEWS_SOURCES, 'sources')\n",
    "news_sources_id = [s['twitter_id'] for s in news_sources.values()]\n",
    "news_sources_id"
   ]
  },
  {
   "cell_type": "code",
   "execution_count": null,
   "metadata": {},
   "outputs": [],
   "source": [
    "from datetime import datetime, timezone\n",
    "from dateutil.relativedelta import relativedelta\n",
    "\n",
    "OFFSET_MIN = 120\n",
    "end_time = datetime.now(timezone.utc)\n",
    "start_time = end_time - relativedelta(minutes=OFFSET_MIN)"
   ]
  },
  {
   "cell_type": "code",
   "execution_count": 17,
   "metadata": {},
   "outputs": [],
   "source": [
    "OFFSET_MIN = 120\n",
    "end_time = datetime.now(timezone.utc)\n",
    "start_time = end_time - relativedelta(minutes=OFFSET_MIN)\n",
    "\n",
    "tweepy_client = tweepy.Client(credentials['twitter']['bearer_token'])\n",
    "\n",
    "user_id = 3108351\n",
    "max_results = 30\n",
    "\n",
    "tw = tweepy_client.get_users_tweets(\n",
    "    user_id,\n",
    "    max_results=max_results,\n",
    "    start_time=start_time,\n",
    "    end_time=end_time,\n",
    "    tweet_fields=['public_metrics', 'created_at']\n",
    ")"
   ]
  },
  {
   "cell_type": "code",
   "execution_count": 43,
   "metadata": {},
   "outputs": [
    {
     "data": {
      "text/html": [
       "<div>\n",
       "<style scoped>\n",
       "    .dataframe tbody tr th:only-of-type {\n",
       "        vertical-align: middle;\n",
       "    }\n",
       "\n",
       "    .dataframe tbody tr th {\n",
       "        vertical-align: top;\n",
       "    }\n",
       "\n",
       "    .dataframe thead th {\n",
       "        text-align: right;\n",
       "    }\n",
       "</style>\n",
       "<table border=\"1\" class=\"dataframe\">\n",
       "  <thead>\n",
       "    <tr style=\"text-align: right;\">\n",
       "      <th></th>\n",
       "      <th>user_id</th>\n",
       "      <th>tweet_id</th>\n",
       "      <th>text</th>\n",
       "      <th>created_at</th>\n",
       "      <th>retweet_count</th>\n",
       "      <th>reply_count</th>\n",
       "      <th>like_count</th>\n",
       "      <th>quote_count</th>\n",
       "    </tr>\n",
       "  </thead>\n",
       "  <tbody>\n",
       "    <tr>\n",
       "      <th>0</th>\n",
       "      <td>3108351</td>\n",
       "      <td>1598039102363996178</td>\n",
       "      <td>The Dow rallied more than 300 points after Jer...</td>\n",
       "      <td>2022-11-30 19:39:46+00:00</td>\n",
       "      <td>3</td>\n",
       "      <td>0</td>\n",
       "      <td>6</td>\n",
       "      <td>0</td>\n",
       "    </tr>\n",
       "    <tr>\n",
       "      <th>1</th>\n",
       "      <td>3108351</td>\n",
       "      <td>1598036657210593299</td>\n",
       "      <td>Severe storms spawning tornadoes, hail and hig...</td>\n",
       "      <td>2022-11-30 19:30:03+00:00</td>\n",
       "      <td>7</td>\n",
       "      <td>2</td>\n",
       "      <td>4</td>\n",
       "      <td>0</td>\n",
       "    </tr>\n",
       "    <tr>\n",
       "      <th>2</th>\n",
       "      <td>3108351</td>\n",
       "      <td>1598032917325807617</td>\n",
       "      <td>A top European official warned Elon Musk on We...</td>\n",
       "      <td>2022-11-30 19:15:12+00:00</td>\n",
       "      <td>37</td>\n",
       "      <td>44</td>\n",
       "      <td>77</td>\n",
       "      <td>18</td>\n",
       "    </tr>\n",
       "    <tr>\n",
       "      <th>3</th>\n",
       "      <td>3108351</td>\n",
       "      <td>1598029124693594122</td>\n",
       "      <td>China’s lockdown protests are the largest show...</td>\n",
       "      <td>2022-11-30 19:00:07+00:00</td>\n",
       "      <td>14</td>\n",
       "      <td>6</td>\n",
       "      <td>30</td>\n",
       "      <td>1</td>\n",
       "    </tr>\n",
       "    <tr>\n",
       "      <th>4</th>\n",
       "      <td>3108351</td>\n",
       "      <td>1598025323047682048</td>\n",
       "      <td>Amazon CEO Andy Jassy said he doesn’t regret t...</td>\n",
       "      <td>2022-11-30 18:45:01+00:00</td>\n",
       "      <td>8</td>\n",
       "      <td>4</td>\n",
       "      <td>27</td>\n",
       "      <td>2</td>\n",
       "    </tr>\n",
       "    <tr>\n",
       "      <th>5</th>\n",
       "      <td>3108351</td>\n",
       "      <td>1598022434388643850</td>\n",
       "      <td>Breaking: Federal Reserve Chairman Jerome Powe...</td>\n",
       "      <td>2022-11-30 18:33:32+00:00</td>\n",
       "      <td>38</td>\n",
       "      <td>9</td>\n",
       "      <td>108</td>\n",
       "      <td>12</td>\n",
       "    </tr>\n",
       "    <tr>\n",
       "      <th>6</th>\n",
       "      <td>3108351</td>\n",
       "      <td>1598020307461279761</td>\n",
       "      <td>From @WSJopinion: For those of us who are free...</td>\n",
       "      <td>2022-11-30 18:25:05+00:00</td>\n",
       "      <td>9</td>\n",
       "      <td>5</td>\n",
       "      <td>38</td>\n",
       "      <td>0</td>\n",
       "    </tr>\n",
       "    <tr>\n",
       "      <th>7</th>\n",
       "      <td>3108351</td>\n",
       "      <td>1598017102601912332</td>\n",
       "      <td>Breaking: The House passed a bill to force rai...</td>\n",
       "      <td>2022-11-30 18:12:21+00:00</td>\n",
       "      <td>16</td>\n",
       "      <td>11</td>\n",
       "      <td>32</td>\n",
       "      <td>5</td>\n",
       "    </tr>\n",
       "    <tr>\n",
       "      <th>8</th>\n",
       "      <td>3108351</td>\n",
       "      <td>1598014110083448845</td>\n",
       "      <td>Big companies have been cutting jobs, even as ...</td>\n",
       "      <td>2022-11-30 18:00:28+00:00</td>\n",
       "      <td>12</td>\n",
       "      <td>2</td>\n",
       "      <td>10</td>\n",
       "      <td>0</td>\n",
       "    </tr>\n",
       "    <tr>\n",
       "      <th>9</th>\n",
       "      <td>3108351</td>\n",
       "      <td>1598011505055760385</td>\n",
       "      <td>Who gets the jury summons? Or the email addres...</td>\n",
       "      <td>2022-11-30 17:50:07+00:00</td>\n",
       "      <td>5</td>\n",
       "      <td>7</td>\n",
       "      <td>35</td>\n",
       "      <td>3</td>\n",
       "    </tr>\n",
       "    <tr>\n",
       "      <th>10</th>\n",
       "      <td>3108351</td>\n",
       "      <td>1598009972696252416</td>\n",
       "      <td>Jared Leto—actor, producer, muse and investor—...</td>\n",
       "      <td>2022-11-30 17:44:01+00:00</td>\n",
       "      <td>6</td>\n",
       "      <td>2</td>\n",
       "      <td>40</td>\n",
       "      <td>2</td>\n",
       "    </tr>\n",
       "  </tbody>\n",
       "</table>\n",
       "</div>"
      ],
      "text/plain": [
       "    user_id             tweet_id  \\\n",
       "0   3108351  1598039102363996178   \n",
       "1   3108351  1598036657210593299   \n",
       "2   3108351  1598032917325807617   \n",
       "3   3108351  1598029124693594122   \n",
       "4   3108351  1598025323047682048   \n",
       "5   3108351  1598022434388643850   \n",
       "6   3108351  1598020307461279761   \n",
       "7   3108351  1598017102601912332   \n",
       "8   3108351  1598014110083448845   \n",
       "9   3108351  1598011505055760385   \n",
       "10  3108351  1598009972696252416   \n",
       "\n",
       "                                                 text  \\\n",
       "0   The Dow rallied more than 300 points after Jer...   \n",
       "1   Severe storms spawning tornadoes, hail and hig...   \n",
       "2   A top European official warned Elon Musk on We...   \n",
       "3   China’s lockdown protests are the largest show...   \n",
       "4   Amazon CEO Andy Jassy said he doesn’t regret t...   \n",
       "5   Breaking: Federal Reserve Chairman Jerome Powe...   \n",
       "6   From @WSJopinion: For those of us who are free...   \n",
       "7   Breaking: The House passed a bill to force rai...   \n",
       "8   Big companies have been cutting jobs, even as ...   \n",
       "9   Who gets the jury summons? Or the email addres...   \n",
       "10  Jared Leto—actor, producer, muse and investor—...   \n",
       "\n",
       "                  created_at  retweet_count  reply_count  like_count  \\\n",
       "0  2022-11-30 19:39:46+00:00              3            0           6   \n",
       "1  2022-11-30 19:30:03+00:00              7            2           4   \n",
       "2  2022-11-30 19:15:12+00:00             37           44          77   \n",
       "3  2022-11-30 19:00:07+00:00             14            6          30   \n",
       "4  2022-11-30 18:45:01+00:00              8            4          27   \n",
       "5  2022-11-30 18:33:32+00:00             38            9         108   \n",
       "6  2022-11-30 18:25:05+00:00              9            5          38   \n",
       "7  2022-11-30 18:12:21+00:00             16           11          32   \n",
       "8  2022-11-30 18:00:28+00:00             12            2          10   \n",
       "9  2022-11-30 17:50:07+00:00              5            7          35   \n",
       "10 2022-11-30 17:44:01+00:00              6            2          40   \n",
       "\n",
       "    quote_count  \n",
       "0             0  \n",
       "1             0  \n",
       "2            18  \n",
       "3             1  \n",
       "4             2  \n",
       "5            12  \n",
       "6             0  \n",
       "7             5  \n",
       "8             0  \n",
       "9             3  \n",
       "10            2  "
      ]
     },
     "execution_count": 43,
     "metadata": {},
     "output_type": "execute_result"
    }
   ],
   "source": [
    "import pandas as pd\n",
    "\n",
    "ds = pd.DataFrame({\n",
    "    'user_id': [user_id]*len(tw.data),\n",
    "    'tweet_id': [tweet.id for tweet in tw.data],\n",
    "    'text': [tweet.text for tweet in tw.data],\n",
    "    'created_at': [tweet.created_at for tweet in tw.data],\n",
    "    'public_metrics': [tweet.public_metrics for tweet in tw.data]\n",
    "})\n",
    "ds = (\n",
    "    ds\n",
    "    .join(ds['public_metrics'].apply(pd.Series))\n",
    "    .drop(['public_metrics'], axis=1)\n",
    ")\n",
    "ds"
   ]
  },
  {
   "cell_type": "code",
   "execution_count": 58,
   "metadata": {},
   "outputs": [
    {
     "data": {
      "text/plain": [
       "1725.8148193359375"
      ]
     },
     "execution_count": 58,
     "metadata": {},
     "output_type": "execute_result"
    }
   ],
   "source": [
    "12 * 100 * 12 * 30 * ds.memory_usage(deep=True).sum()/1024/1024"
   ]
  },
  {
   "cell_type": "code",
   "execution_count": 50,
   "metadata": {},
   "outputs": [
    {
     "data": {
      "text/plain": [
       "1.6778755187988281"
      ]
     },
     "execution_count": 50,
     "metadata": {},
     "output_type": "execute_result"
    }
   ],
   "source": [
    "(ds.memory_usage(deep=True).sum()/1024/1024)*35*12"
   ]
  },
  {
   "cell_type": "code",
   "execution_count": 53,
   "metadata": {},
   "outputs": [
    {
     "data": {
      "text/plain": [
       "504000"
      ]
     },
     "execution_count": 53,
     "metadata": {},
     "output_type": "execute_result"
    }
   ],
   "source": [
    "40*35*12*30"
   ]
  },
  {
   "cell_type": "code",
   "execution_count": null,
   "metadata": {},
   "outputs": [],
   "source": []
  }
 ],
 "metadata": {
  "interpreter": {
   "hash": "9602a2d11e715b8db744d19e21cb1ff033747a593ac642d8a9550bd4c2a83110"
  },
  "kernelspec": {
   "display_name": "Python 3.9.13 ('movie_reviews_classification_env')",
   "language": "python",
   "name": "python3"
  },
  "language_info": {
   "codemirror_mode": {
    "name": "ipython",
    "version": 3
   },
   "file_extension": ".py",
   "mimetype": "text/x-python",
   "name": "python",
   "nbconvert_exporter": "python",
   "pygments_lexer": "ipython3",
   "version": "3.9.13"
  },
  "orig_nbformat": 4
 },
 "nbformat": 4,
 "nbformat_minor": 2
}
