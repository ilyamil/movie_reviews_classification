{
 "cells": [
  {
   "cell_type": "code",
   "execution_count": 2,
   "metadata": {},
   "outputs": [],
   "source": [
    "import os\n",
    "import sys\n",
    "import tweepy\n",
    "\n",
    "ROOT = os.path.abspath('..')\n",
    "SRC = os.path.join(ROOT, 'src')\n",
    "os.chdir(ROOT)\n",
    "sys.path.append(SRC)\n",
    "\n",
    "from sentiment_analysis.core.utils import load_yaml"
   ]
  },
  {
   "cell_type": "code",
   "execution_count": 3,
   "metadata": {},
   "outputs": [],
   "source": [
    "CREDENTIALS = 'credentials.yaml'\n",
    "\n",
    "credentials = load_yaml(CREDENTIALS)\n",
    "storage_options = {\n",
    "    'key': credentials['aws']['access_key'],\n",
    "    'secret': credentials['aws']['secret_access_key']\n",
    "}\n",
    "bearer_token = credentials['twitter']['bearer_token']"
   ]
  },
  {
   "cell_type": "code",
   "execution_count": 33,
   "metadata": {},
   "outputs": [],
   "source": [
    "tweepy_client = tweepy.Client(credentials['twitter']['bearer_token'])\n",
    "tw = tweepy_client.get_users_tweets(\n",
    "    3108351,\n",
    "    max_results=5,\n",
    "    start_time=datetime(2022, 11, 29, 1, 30),\n",
    "    tweet_fields=['public_metrics', 'created_at']\n",
    ")"
   ]
  },
  {
   "cell_type": "code",
   "execution_count": 34,
   "metadata": {},
   "outputs": [
    {
     "data": {
      "text/plain": [
       "Response(data=[<Tweet id=1597680457864331265 text='A goal from Christian Pulisic gives the #USMNT a 1-0 lead over Iran at halftime of their World Cup match https://t.co/JEwK36r0vA'>, <Tweet id=1597678069917048833 text='Creating an ostentatious fake art collection for one of the fake richest men in the world? A task that “Glass Onion: A Knives Out Mystery” set decorators were more than ready for https://t.co/aMpwmJbfpl'>, <Tweet id=1597674263074541569 text='A record 48,953 deaths in the U.S., or about 15 fatalities per 100,000 people, were caused by guns last year, according to a new study https://t.co/8FH7hxRuhy'>, <Tweet id=1597670512519512070 text='Twitter has stopped enforcing a policy aimed at curbing the spread of Covid-19 misinformation on its platform https://t.co/CTSGKRgHsY'>, <Tweet id=1597666745996779520 text='RT @BuySideWSJ: Giving to charity can be a great way to help a cause that’s important to you. If you’re planning on giving back today for #…'>], includes={}, errors=[], meta={'next_token': '7140dibdnow9c7btw424ccwesmp39w3f26rof62u04pio', 'result_count': 5, 'newest_id': '1597680457864331265', 'oldest_id': '1597666745996779520'})"
      ]
     },
     "execution_count": 34,
     "metadata": {},
     "output_type": "execute_result"
    }
   ],
   "source": [
    "tw"
   ]
  },
  {
   "cell_type": "code",
   "execution_count": 40,
   "metadata": {},
   "outputs": [],
   "source": [
    "from datetime import datetime, timezone\n",
    "\n",
    "start_dt = datetime(2022, 11, 29, 23, 30, tzinfo=timezone.utc)"
   ]
  },
  {
   "cell_type": "code",
   "execution_count": 41,
   "metadata": {},
   "outputs": [
    {
     "data": {
      "text/plain": [
       "datetime.datetime(2022, 11, 29, 23, 30, tzinfo=datetime.timezone.utc)"
      ]
     },
     "execution_count": 41,
     "metadata": {},
     "output_type": "execute_result"
    }
   ],
   "source": [
    "start_dt"
   ]
  },
  {
   "cell_type": "code",
   "execution_count": 39,
   "metadata": {},
   "outputs": [
    {
     "data": {
      "text/plain": [
       "datetime.datetime(2022, 11, 29, 19, 54, 39, tzinfo=datetime.timezone.utc)"
      ]
     },
     "execution_count": 39,
     "metadata": {},
     "output_type": "execute_result"
    }
   ],
   "source": [
    "tw.data[0].created_at"
   ]
  },
  {
   "cell_type": "code",
   "execution_count": 42,
   "metadata": {},
   "outputs": [
    {
     "data": {
      "text/plain": [
       "{'retweet_count': 11, 'reply_count': 2, 'like_count': 69, 'quote_count': 2}"
      ]
     },
     "execution_count": 42,
     "metadata": {},
     "output_type": "execute_result"
    }
   ],
   "source": [
    "tw.data[0].public_metrics"
   ]
  },
  {
   "cell_type": "code",
   "execution_count": null,
   "metadata": {},
   "outputs": [],
   "source": []
  }
 ],
 "metadata": {
  "interpreter": {
   "hash": "9602a2d11e715b8db744d19e21cb1ff033747a593ac642d8a9550bd4c2a83110"
  },
  "kernelspec": {
   "display_name": "Python 3.9.13 ('movie_reviews_classification_env')",
   "language": "python",
   "name": "python3"
  },
  "language_info": {
   "codemirror_mode": {
    "name": "ipython",
    "version": 3
   },
   "file_extension": ".py",
   "mimetype": "text/x-python",
   "name": "python",
   "nbconvert_exporter": "python",
   "pygments_lexer": "ipython3",
   "version": "3.9.13"
  },
  "orig_nbformat": 4
 },
 "nbformat": 4,
 "nbformat_minor": 2
}
